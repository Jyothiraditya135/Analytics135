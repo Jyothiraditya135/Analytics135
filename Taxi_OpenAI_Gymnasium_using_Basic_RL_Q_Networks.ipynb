{
  "nbformat": 4,
  "nbformat_minor": 0,
  "metadata": {
    "colab": {
      "provenance": [],
      "authorship_tag": "ABX9TyOZRAWkOgrNIN/P+Do3JUBQ",
      "include_colab_link": true
    },
    "kernelspec": {
      "name": "python3",
      "display_name": "Python 3"
    },
    "language_info": {
      "name": "python"
    }
  },
  "cells": [
    {
      "cell_type": "markdown",
      "metadata": {
        "id": "view-in-github",
        "colab_type": "text"
      },
      "source": [
        "<a href=\"https://colab.research.google.com/github/Jyothiraditya135/Analytics135/blob/main/Taxi_OpenAI_Gymnasium_using_Basic_RL_Q_Networks.ipynb\" target=\"_parent\"><img src=\"https://colab.research.google.com/assets/colab-badge.svg\" alt=\"Open In Colab\"/></a>"
      ]
    },
    {
      "cell_type": "code",
      "execution_count": null,
      "metadata": {
        "id": "SUSKUC8ndQv0"
      },
      "outputs": [],
      "source": [
        "!pip install gym\n",
        "import gym\n",
        "import numpy as np"
      ]
    },
    {
      "cell_type": "code",
      "source": [
        "env = gym.make(\"Taxi-v3\").env"
      ],
      "metadata": {
        "id": "21q9Tk6aeCmj"
      },
      "execution_count": null,
      "outputs": []
    },
    {
      "cell_type": "code",
      "source": [
        "print('The number of possible states is ' + str(env.observation_space.n))\n",
        "print('The number of possible actions is ' + str(env.action_space.n))"
      ],
      "metadata": {
        "colab": {
          "base_uri": "https://localhost:8080/"
        },
        "id": "gi--BNX9eCq8",
        "outputId": "95e26091-52ed-4672-8f8a-a13b0f23c0fe"
      },
      "execution_count": 3,
      "outputs": [
        {
          "output_type": "stream",
          "name": "stdout",
          "text": [
            "The number of possible states is 500\n",
            "The number of possible actions is 6\n"
          ]
        }
      ]
    },
    {
      "cell_type": "code",
      "source": [
        "q_table = np.zeros((env.observation_space.n, env.action_space.n), dtype=float)"
      ],
      "metadata": {
        "id": "faYnjy52eCty"
      },
      "execution_count": 4,
      "outputs": []
    },
    {
      "cell_type": "code",
      "source": [
        "def epsilon_greedy_method(i):\n",
        "    return 0.01 + 0.99 * np.exp(-0.01 * i)"
      ],
      "metadata": {
        "id": "iskaHToBeCwi"
      },
      "execution_count": 5,
      "outputs": []
    },
    {
      "cell_type": "code",
      "source": [
        "def model(n_ep=5000, n_timesteps_max=1000, alpha=0.5, gamma=0.5):\n",
        "    for i in range(n_ep):\n",
        "        if i % 100 == 0:\n",
        "            print('Episode number: ', i)\n",
        "        epsilon = epsilon_greedy_method(i)\n",
        "        state = env.reset()\n",
        "        for _ in range(n_timesteps_max):\n",
        "            if np.random.uniform(0, 1) < epsilon:\n",
        "                action = env.action_space.sample()\n",
        "            else:\n",
        "                action = np.argmax(q_table[state, :])\n",
        "            new_state, reward, done, info = env.step(action)\n",
        "            q_table[state, action] = q_table[state, action] + alpha * (reward + gamma * (np.max(q_table[new_state, :])) - q_table[state, action])\n",
        "            state = new_state\n",
        "            if done == True:\n",
        "                break\n",
        "    print('Training of the model is complete')\n",
        "    env.close()\n"
      ],
      "metadata": {
        "id": "sUvGkvDBeSv6"
      },
      "execution_count": 12,
      "outputs": []
    },
    {
      "cell_type": "code",
      "source": [
        "model()"
      ],
      "metadata": {
        "id": "bSCeGM6aeCy4"
      },
      "execution_count": null,
      "outputs": []
    },
    {
      "cell_type": "code",
      "source": [
        "!pip install gymnasium\n",
        "import gymnasium as jim"
      ],
      "metadata": {
        "id": "s-hJCkaH9INP"
      },
      "execution_count": null,
      "outputs": []
    },
    {
      "cell_type": "code",
      "source": [
        "def working_taxi():\n",
        "    tot_rew = 0\n",
        "    env = jim.make(\"Taxi-v3\", render_mode=\"human\")\n",
        "    for n in range(5):\n",
        "        print('Episode number: ', n)\n",
        "        state, info = env.reset()\n",
        "        for i in range(50):\n",
        "            action = np.argmax(q_table[state, :])\n",
        "            new_state, reward, terminated, truncated, info = env.step(action)\n",
        "            tot_rew += reward\n",
        "            env.render()\n",
        "            state = new_state\n",
        "            if terminated == True:\n",
        "                print('Score: ', tot_rew)\n",
        "                tot_rew = 0\n",
        "                break\n",
        "\n",
        "    env.close()"
      ],
      "metadata": {
        "id": "q-E1JRnXeSpB"
      },
      "execution_count": 15,
      "outputs": []
    },
    {
      "cell_type": "code",
      "source": [
        "working_taxi()"
      ],
      "metadata": {
        "id": "id14jXeMeC1V"
      },
      "execution_count": null,
      "outputs": []
    }
  ]
}