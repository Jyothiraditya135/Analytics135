{
  "nbformat": 4,
  "nbformat_minor": 0,
  "metadata": {
    "colab": {
      "provenance": [],
      "authorship_tag": "ABX9TyMXTK7UAy/8gHiwZNsm9xO5",
      "include_colab_link": true
    },
    "kernelspec": {
      "name": "python3",
      "display_name": "Python 3"
    },
    "language_info": {
      "name": "python"
    }
  },
  "cells": [
    {
      "cell_type": "markdown",
      "metadata": {
        "id": "view-in-github",
        "colab_type": "text"
      },
      "source": [
        "<a href=\"https://colab.research.google.com/github/Jyothiraditya135/Analytics135/blob/main/DC_Task2_part3.ipynb\" target=\"_parent\"><img src=\"https://colab.research.google.com/assets/colab-badge.svg\" alt=\"Open In Colab\"/></a>"
      ]
    },
    {
      "cell_type": "code",
      "execution_count": null,
      "metadata": {
        "id": "0jxiN_4Vt5fB"
      },
      "outputs": [],
      "source": [
        "import numpy as np\n",
        "import h5py\n",
        "import copy\n",
        "import matplotlib.pyplot as plt"
      ]
    },
    {
      "cell_type": "code",
      "source": [
        "def input_data():\n",
        "     train_dataset = h5py.File('/content/train_catvnoncat.h5' , 'r')\n",
        "     train_set_x = np.array(train_dataset['train_set_x'][:])\n",
        "     train_set_y = np.array(train_dataset['train_set_y'][:])\n",
        "\n",
        "     test_dataset = h5py.File('/content/test_catvnoncat.h5' , 'r')\n",
        "     test_set_x = np.array(test_dataset['test_set_x'][:])\n",
        "     test_set_y = np.array(test_dataset['test_set_y'][:])\n",
        "     classes = np.array(test_dataset['list_classes'][:])\n",
        "\n",
        "     train_set_y = train_set_y.reshape((1, train_set_y.shape[0]))\n",
        "     test_set_y = test_set_y.reshape((1, test_set_y.shape[0]))\n",
        "\n",
        "     return train_set_x, train_set_y, test_set_x, test_set_y, classes"
      ],
      "metadata": {
        "id": "ASIZmo6duDZc"
      },
      "execution_count": null,
      "outputs": []
    },
    {
      "cell_type": "code",
      "source": [
        "tr_sx, tr_sy, te_sx, te_sy, cl = input_data()\n",
        "print(\"Size of Input Training data Set X is \" + str(tr_sx.shape))\n",
        "print(\"Size of Input Training data Set Y is \" + str(tr_sy.shape))\n",
        "print(\"Size of Input Testing data Set X is \" + str(te_sx.shape))\n",
        "print(\"Size of Input Testing data Set Y is \" + str(te_sy.shape))"
      ],
      "metadata": {
        "id": "vqGQkuBL2mGR",
        "colab": {
          "base_uri": "https://localhost:8080/"
        },
        "outputId": "8adb64b4-39e0-4be0-ccee-0ead57ed941a"
      },
      "execution_count": null,
      "outputs": [
        {
          "output_type": "stream",
          "name": "stdout",
          "text": [
            "(50,)\n",
            "Size of Input Training data Set X is (209, 64, 64, 3)\n",
            "Size of Input Training data Set Y is (1, 209)\n",
            "Size of Input Testing data Set X is (50, 64, 64, 3)\n",
            "Size of Input Testing data Set Y is (1, 50)\n"
          ]
        }
      ]
    },
    {
      "cell_type": "code",
      "source": [
        "tr_sx_flatten = tr_sx.reshape(tr_sx.shape[0], -1).T\n",
        "te_sx_flatten = te_sx.reshape(te_sx.shape[0], -1).T\n",
        "print(\"Size of Flattened Training data Set X is \" + str(tr_sx_flatten.shape))\n",
        "print(\"Size of Flattened Testing data Set X is \" + str(te_sx_flatten.shape))\n",
        "train_set_x= tr_sx_flatten/255\n",
        "test_set_x= te_sx_flatten/255"
      ],
      "metadata": {
        "id": "SSP6bYVP4aYr",
        "colab": {
          "base_uri": "https://localhost:8080/"
        },
        "outputId": "a74eec42-1598-449f-b224-99de090af783"
      },
      "execution_count": null,
      "outputs": [
        {
          "output_type": "stream",
          "name": "stdout",
          "text": [
            "Size of Flattened Training data Set X is (12288, 209)\n",
            "Size of Flattened Testing data Set X is (12288, 50)\n"
          ]
        }
      ]
    },
    {
      "cell_type": "code",
      "source": [
        "def log_reg_model(X_train, Y_train, X_test, Y_test, iters, alpha):\n",
        "    w=np.zeros(shape=((X_train.shape[0]), 1), dtype=np.float32)\n",
        "    b=0.0\n",
        "\n",
        "    w,b = cost_graddes_update_iterate(w, b, X_train, Y_train, iters, alpha)\n",
        "    \n",
        "    Y_train_pred=predict(w, b, X_train)\n",
        "    print (\"Accuracy of the model on training data is \" + str(100 - np.mean( np.abs(Y_train-Y_train_pred) ) *100 ) )\n",
        "    Y_test_pred=predict(w, b, X_test)\n",
        "    print (\"Accuracy of the model on testing data is \" + str(100 - np.mean( np.abs(Y_test-Y_test_pred) ) *100 ) )"
      ],
      "metadata": {
        "id": "di3WsoK_HxGn"
      },
      "execution_count": null,
      "outputs": []
    },
    {
      "cell_type": "code",
      "source": [
        "def cost_graddes_update_iterate(w, b, X, Y, iters, lr):\n",
        "    weights = copy.deepcopy(w)\n",
        "    bias = copy.deepcopy(b)\n",
        "    \n",
        "    for i in range(iters):\n",
        "       pred=  np.dot(weights.T,X) + bias \n",
        "       y_pred = sigm(pred)\n",
        "\n",
        "       cost=(-1 * np.mean( Y*np.log(y_pred) + (1-Y)*np.log(1-y_pred) ) )\n",
        "       \n",
        "       weights-= lr*( np.dot(X, (y_pred-Y).T )/X.shape[1])\n",
        "       bias-= lr*( np.sum((y_pred-Y))/X.shape[1] )\n",
        "\n",
        "    return weights, bias "
      ],
      "metadata": {
        "id": "1SVN5k-jVGLb"
      },
      "execution_count": null,
      "outputs": []
    },
    {
      "cell_type": "code",
      "source": [
        "def predict(w, b, X):\n",
        "    Y=sigm(np.dot(w.T,X)+b)\n",
        "\n",
        "    Y_pred=np.zeros((1,X.shape[1]))\n",
        "\n",
        "    for i in range(X.shape[1]):\n",
        "      if(Y[0,i]>0.5):\n",
        "         Y_pred[0,i]=1\n",
        "      else:\n",
        "         Y_pred[0,i]=0  \n",
        "\n",
        "    return Y_pred      "
      ],
      "metadata": {
        "id": "PFS3mokHXP6D"
      },
      "execution_count": null,
      "outputs": []
    },
    {
      "cell_type": "code",
      "source": [
        "def sigm(z):\n",
        "   sig=1.0/(1+np.exp(-z))\n",
        "   return sig"
      ],
      "metadata": {
        "id": "8nTCWxS1aQmt"
      },
      "execution_count": null,
      "outputs": []
    },
    {
      "cell_type": "code",
      "source": [
        "log_reg_model(train_set_x, tr_sy, test_set_x, te_sy, 1200, 0.0077)"
      ],
      "metadata": {
        "colab": {
          "base_uri": "https://localhost:8080/"
        },
        "id": "GSlNfWb2d0T7",
        "outputId": "0daca03e-b68a-4ad5-cba6-178452b95fd5"
      },
      "execution_count": null,
      "outputs": [
        {
          "output_type": "stream",
          "name": "stdout",
          "text": [
            "Accuracy of the model on training data is 98.56459330143541\n",
            "Accuracy of the model on testing data is 72.0\n"
          ]
        }
      ]
    }
  ]
}